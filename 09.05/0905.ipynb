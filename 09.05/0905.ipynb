{
 "cells": [
  {
   "cell_type": "markdown",
   "id": "ce68ced3-2f48-4a4d-9164-0295335c3544",
   "metadata": {},
   "source": [
    "**09/05**\n",
    "\n",
    "OH: thursdays 2-3p; CDS 441\n",
    "\n",
    "**Next Week**\n",
    "\n",
    "* Read integrate fire papers\n",
    "\n",
    "* no class/OHs 09/12"
   ]
  },
  {
   "cell_type": "code",
   "execution_count": null,
   "id": "cd757bc5-d89e-4740-babc-798ec949842b",
   "metadata": {},
   "outputs": [],
   "source": []
  }
 ],
 "metadata": {
  "kernelspec": {
   "display_name": "Python 3 (ipykernel)",
   "language": "python",
   "name": "python3"
  },
  "language_info": {
   "codemirror_mode": {
    "name": "ipython",
    "version": 3
   },
   "file_extension": ".py",
   "mimetype": "text/x-python",
   "name": "python",
   "nbconvert_exporter": "python",
   "pygments_lexer": "ipython3",
   "version": "3.12.4"
  }
 },
 "nbformat": 4,
 "nbformat_minor": 5
}
