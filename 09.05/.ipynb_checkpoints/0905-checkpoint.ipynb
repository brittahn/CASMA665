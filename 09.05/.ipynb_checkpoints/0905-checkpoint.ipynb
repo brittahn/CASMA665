{
 "cells": [
  {
   "cell_type": "markdown",
   "id": "ce68ced3-2f48-4a4d-9164-0295335c3544",
   "metadata": {},
   "source": [
    "**09/05**\n",
    "\n",
    "OH: Thursdays 2-3p; CDS 441\n",
    "\n",
    "**Next Week**\n",
    "\n",
    "* Read integrate fire papers\n",
    "\n",
    "* no class/OHs 09/12"
   ]
  },
  {
   "cell_type": "code",
   "execution_count": 25,
   "id": "cd757bc5-d89e-4740-babc-798ec949842b",
   "metadata": {},
   "outputs": [],
   "source": [
    "import numpy as np\n",
    "import matplotlib.pyplot as plt\n",
    "import pandas as pd\n",
    "\n",
    "# Open and read csv locally\n",
    "df = pd.read_csv(\"~/Desktop/CASMA665/09.05/Rhythms_1.csv\")\n"
   ]
  },
  {
   "cell_type": "code",
   "execution_count": 26,
   "id": "822493dc-4d3c-4c16-9202-409425b33d5d",
   "metadata": {},
   "outputs": [
    {
     "name": "stdout",
     "output_type": "stream",
     "text": [
      "[0. 0. 0. 0. 0. 0. 0. 0. 0. 0.]\n",
      "[0. 0. 0. 0. 0. 0. 0. 0. 0. 0.]\n"
     ]
    }
   ],
   "source": [
    "# create array of 10 zeros using numpy\n",
    "# more standard\n",
    "import numpy as np\n",
    "arr = np.zeros(10)\n",
    "print(arr)\n",
    "\n",
    "from numpy import *  # import all from numpy\n",
    "arr = zeros(10)\n",
    "print(arr)\n"
   ]
  },
  {
   "cell_type": "markdown",
   "id": "c4d61472-8fea-4ddc-a1a7-3119aacdd210",
   "metadata": {},
   "source": [
    "#### Another Ex"
   ]
  },
  {
   "cell_type": "code",
   "execution_count": 30,
   "id": "3db7be1f-bd31-426c-ad50-3a2400481e93",
   "metadata": {},
   "outputs": [
    {
     "name": "stdout",
     "output_type": "stream",
     "text": [
      "[1 2 3 4]\n",
      "[ 1  4  9 16]\n",
      "(4,)\n",
      "(4,)\n",
      "1\n",
      "4\n",
      "b= [ 3  6  9 12]\n",
      "[[ 1  2  3  4]\n",
      " [ 3  6  9 12]]\n",
      "print first row:  [1 2 3 4]\n",
      "(2, 4)\n",
      "last column [ 4 12]\n"
     ]
    }
   ],
   "source": [
    "import numpy as np\n",
    "arr = np.array([1, 2, 3, 4])\n",
    "print(arr)\n",
    "print(arr*arr)\n",
    "print(arr.shape)\n",
    "print(np.shape(arr))\n",
    "print(arr[0])\n",
    "print(arr[-1])\n",
    "\n",
    "b = 3*arr\n",
    "print(\"b=\", b)\n",
    "\n",
    "c = np.array([arr,b])\n",
    "print(c)\n",
    "print(\"print first row: \", c[0,:])\n",
    "print(np.shape(c))\n",
    "print(\"last column\", c[:,-1])\n"
   ]
  },
  {
   "cell_type": "markdown",
   "id": "a0536c31-827e-46a1-b86d-63c8cecd5b08",
   "metadata": {},
   "source": [
    "#### Challenge\n",
    "Find all vals in c greater than or equal to 5, and set them to 0. Call this new variable d.\n"
   ]
  },
  {
   "cell_type": "code",
   "execution_count": 33,
   "id": "41d44cb2-bf44-4623-8239-890b4eb80f8a",
   "metadata": {},
   "outputs": [
    {
     "name": "stdout",
     "output_type": "stream",
     "text": [
      "[[1 2 3 4]\n",
      " [3 0 0 0]]\n"
     ]
    }
   ],
   "source": [
    "# print(c)\n",
    "# print(c>5)\n",
    "\n",
    "for rows in np.arange(np.shape(c)[0]):\n",
    "    for cols in np.arange(np.shape(c)[1]):\n",
    "        if c[rows,cols] >= 5:\n",
    "            c[rows,cols] = 0\n",
    "print(c)\n"
   ]
  },
  {
   "cell_type": "code",
   "execution_count": 35,
   "id": "e80fdb7e-51e7-4c9d-bd4c-e3c13d00f740",
   "metadata": {},
   "outputs": [
    {
     "name": "stdout",
     "output_type": "stream",
     "text": [
      "[[1 2 3 4]\n",
      " [3 0 0 0]]\n"
     ]
    }
   ],
   "source": [
    "import numpy as np\n",
    "c = np.array([[1, 2, 3, 4],[3, 6, 9, 12]])\n",
    "c[c>=5] = 0\n",
    "d = c\n",
    "print(d)\n"
   ]
  },
  {
   "cell_type": "markdown",
   "id": "d39ccc47-bde3-4a4a-804b-f8e602022829",
   "metadata": {},
   "source": [
    "#### Challenge!!\n",
    "\n",
    "Write a function that takes two inputs (each a number) and returns their squared sum.\n"
   ]
  },
  {
   "cell_type": "code",
   "execution_count": 38,
   "id": "4d94d602-11f4-4795-906b-ea22fc369c26",
   "metadata": {},
   "outputs": [
    {
     "name": "stdout",
     "output_type": "stream",
     "text": [
      "104\n"
     ]
    }
   ],
   "source": [
    "\"\"\"\n",
    "Description\n",
    "Function that takes in 2 inputs and returns their squared sum.\n",
    "\n",
    "Args:\n",
    "a --- first value\n",
    "b --- second value to add to first, then square together\n",
    "\n",
    "Returns:\n",
    "numerical value of squared sum\n",
    "\n",
    "Example:\n",
    "\"\"\"\n",
    "\n",
    "def sq(a, b):\n",
    "    return a**2 + b**2\n",
    "\n",
    "print(sq(2, 10))"
   ]
  },
  {
   "cell_type": "code",
   "execution_count": null,
   "id": "1139175a-6c1c-4848-8337-92f5909dedc4",
   "metadata": {},
   "outputs": [],
   "source": []
  }
 ],
 "metadata": {
  "kernelspec": {
   "display_name": "Python 3 (ipykernel)",
   "language": "python",
   "name": "python3"
  },
  "language_info": {
   "codemirror_mode": {
    "name": "ipython",
    "version": 3
   },
   "file_extension": ".py",
   "mimetype": "text/x-python",
   "name": "python",
   "nbconvert_exporter": "python",
   "pygments_lexer": "ipython3",
   "version": "3.12.4"
  }
 },
 "nbformat": 4,
 "nbformat_minor": 5
}
