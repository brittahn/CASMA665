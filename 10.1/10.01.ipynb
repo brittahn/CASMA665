{
 "cells": [
  {
   "cell_type": "markdown",
   "id": "592dd556-6543-4271-90eb-076c5c1c7247",
   "metadata": {},
   "source": [
    "#### Lecture 10.01\n",
    "\n",
    "#### October 1, 2024\n",
    "\n",
    "Perceptron Lecture Part II"
   ]
  },
  {
   "cell_type": "code",
   "execution_count": 7,
   "id": "857a4554-d8dd-4780-a4bd-2d4f76d1a68b",
   "metadata": {},
   "outputs": [
    {
     "name": "stdout",
     "output_type": "stream",
     "text": [
      "0\n"
     ]
    }
   ],
   "source": [
    "# Train perceptron\n",
    "\n",
    "# Function that computes the known solution\n",
    "def known_answer(slope, intercept, x, y):\n",
    "    \n",
    "    # define yline\n",
    "    yline = slope*x + intercept\n",
    "\n",
    "    # input y above or below?\n",
    "    if y > yline:\n",
    "        return 1  # return 1 if above line\n",
    "    else:\n",
    "        return 0\n",
    "\n",
    "print(known_answer(2,1,0,0))\n",
    "\n",
    "def feedforward(x,y,wx,wy,wb):\n",
    "    if (x*wx + y*wy + wb)>0:\n",
    "        return 1\n",
    "    else:\n",
    "        return 0\n"
   ]
  }
 ],
 "metadata": {
  "kernelspec": {
   "display_name": "Python 3 (ipykernel)",
   "language": "python",
   "name": "python3"
  },
  "language_info": {
   "codemirror_mode": {
    "name": "ipython",
    "version": 3
   },
   "file_extension": ".py",
   "mimetype": "text/x-python",
   "name": "python",
   "nbconvert_exporter": "python",
   "pygments_lexer": "ipython3",
   "version": "3.12.4"
  }
 },
 "nbformat": 4,
 "nbformat_minor": 5
}
