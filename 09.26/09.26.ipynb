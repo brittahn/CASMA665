{
 "cells": [
  {
   "cell_type": "markdown",
   "id": "c20b0bb9-961d-407b-8e77-cd3dcf451c1d",
   "metadata": {},
   "source": [
    "### Lecture 09/24 - Perceptron Model\n",
    "\n",
    "___\n",
    "\n",
    "\n",
    "### Announcements~\n",
    "\n",
    "HW2 HH due 10/1 + bonus question"
   ]
  }
 ],
 "metadata": {
  "kernelspec": {
   "display_name": "Python 3 (ipykernel)",
   "language": "python",
   "name": "python3"
  },
  "language_info": {
   "codemirror_mode": {
    "name": "ipython",
    "version": 3
   },
   "file_extension": ".py",
   "mimetype": "text/x-python",
   "name": "python",
   "nbconvert_exporter": "python",
   "pygments_lexer": "ipython3",
   "version": "3.12.4"
  }
 },
 "nbformat": 4,
 "nbformat_minor": 5
}
