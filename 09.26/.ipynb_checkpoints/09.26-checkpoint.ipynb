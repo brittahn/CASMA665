{
 "cells": [
  {
   "cell_type": "markdown",
   "id": "c20b0bb9-961d-407b-8e77-cd3dcf451c1d",
   "metadata": {},
   "source": [
    "### Lecture 09/24 - Perceptron Model\n",
    "\n",
    "___\n",
    "\n",
    "\n",
    "### Announcements~\n",
    "\n",
    "HW2 HH due 10/1 + bonus question"
   ]
  },
  {
   "cell_type": "code",
   "execution_count": 23,
   "id": "470af59f-4ede-41fe-a866-7a7433b03b0b",
   "metadata": {},
   "outputs": [
    {
     "name": "stdout",
     "output_type": "stream",
     "text": [
      "1\n",
      "1\n"
     ]
    }
   ],
   "source": [
    "### Simple perceptron model\n",
    "\n",
    "def my_perceptron(input1, input2, w1, w2, theta):\n",
    "    if (input1*w1 + input2*w2 + theta) >= 0:\n",
    "        return 1\n",
    "    else:\n",
    "        return 0\n",
    "\n",
    "print(my_perceptron(1, 0, 05., -0.5, 0))\n",
    "\n",
    "def class_perceptron(input1, input2, w1, w2, theta):\n",
    "    x = input1*w1 + input2*w2 + theta\n",
    "    if x <= 0:\n",
    "        return 0\n",
    "    else:\n",
    "        return 1\n",
    "\n",
    "print(class_perceptron(1, 0, 05., -0.5, 0))\n"
   ]
  }
 ],
 "metadata": {
  "kernelspec": {
   "display_name": "Python 3 (ipykernel)",
   "language": "python",
   "name": "python3"
  },
  "language_info": {
   "codemirror_mode": {
    "name": "ipython",
    "version": 3
   },
   "file_extension": ".py",
   "mimetype": "text/x-python",
   "name": "python",
   "nbconvert_exporter": "python",
   "pygments_lexer": "ipython3",
   "version": "3.12.4"
  }
 },
 "nbformat": 4,
 "nbformat_minor": 5
}
