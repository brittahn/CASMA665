{
 "cells": [
  {
   "cell_type": "markdown",
   "id": "4f86c665-68b7-4f40-a088-adeef5129f78",
   "metadata": {},
   "source": [
    "### Tuesday, September 17, 2024\n",
    "\n",
    "Today: LIF models\n",
    "\n",
    "Thursday: read HH papers\n",
    "\n",
    "Homework due 09/24"
   ]
  }
 ],
 "metadata": {
  "kernelspec": {
   "display_name": "Python 3 (ipykernel)",
   "language": "python",
   "name": "python3"
  },
  "language_info": {
   "codemirror_mode": {
    "name": "ipython",
    "version": 3
   },
   "file_extension": ".py",
   "mimetype": "text/x-python",
   "name": "python",
   "nbconvert_exporter": "python",
   "pygments_lexer": "ipython3",
   "version": "3.12.4"
  }
 },
 "nbformat": 4,
 "nbformat_minor": 5
}
