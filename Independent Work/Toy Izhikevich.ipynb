{
 "cells": [
  {
   "cell_type": "markdown",
   "id": "f22afec4-cb61-478f-9ee9-061a27f66f18",
   "metadata": {},
   "source": [
    "#### Brittany Ahn\n",
    "\n",
    "**Descr:** Toy Izhikevich model\n",
    "\n",
    "**Date:** September 7, 2024\n",
    "\n",
    "The Izhikevich model can be represented as a two-dimensional system of ODEs:\n",
    "\n",
    "dvdt = 0.04*(v**2) + 5v + 140 - u + I\n",
    "dudt = a*(b*v - u)\n",
    "\n",
    "s.t.\n",
    "\n",
    "if v>=30 mV, => (v <-- c) and (u <-- u+d)"
   ]
  },
  {
   "cell_type": "code",
   "execution_count": null,
   "id": "6a7bdba8-b205-46d2-bdde-55c0bdeae92a",
   "metadata": {},
   "outputs": [],
   "source": []
  }
 ],
 "metadata": {
  "kernelspec": {
   "display_name": "Python 3 (ipykernel)",
   "language": "python",
   "name": "python3"
  },
  "language_info": {
   "codemirror_mode": {
    "name": "ipython",
    "version": 3
   },
   "file_extension": ".py",
   "mimetype": "text/x-python",
   "name": "python",
   "nbconvert_exporter": "python",
   "pygments_lexer": "ipython3",
   "version": "3.12.4"
  }
 },
 "nbformat": 4,
 "nbformat_minor": 5
}
