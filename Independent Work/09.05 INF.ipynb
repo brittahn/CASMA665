{
 "cells": [
  {
   "cell_type": "markdown",
   "id": "011773b1-505d-43bf-a473-985bfe69ceae",
   "metadata": {},
   "source": [
    "September 5, 2024\n",
    "\n",
    "CASMA665 Integrate Fire Neuron\n",
    "\n",
    "Prof Mark Kramer\n",
    "\n",
    "Independent work\n",
    "\n",
    "Going through module:\n",
    "https://mark-kramer.github.io/BU-MA665-MA666/IF.html\n"
   ]
  },
  {
   "cell_type": "code",
   "execution_count": 5,
   "id": "6400791f-314c-41ed-8040-3f289be0db34",
   "metadata": {},
   "outputs": [],
   "source": [
    "import numpy as np\n",
    "import matplotlib.pyplot as plt\n"
   ]
  },
  {
   "cell_type": "code",
   "execution_count": null,
   "id": "39d6eac9-5b2f-4d95-9c32-98207c8590d7",
   "metadata": {},
   "outputs": [],
   "source": []
  }
 ],
 "metadata": {
  "kernelspec": {
   "display_name": "Python 3 (ipykernel)",
   "language": "python",
   "name": "python3"
  },
  "language_info": {
   "codemirror_mode": {
    "name": "ipython",
    "version": 3
   },
   "file_extension": ".py",
   "mimetype": "text/x-python",
   "name": "python",
   "nbconvert_exporter": "python",
   "pygments_lexer": "ipython3",
   "version": "3.12.4"
  }
 },
 "nbformat": 4,
 "nbformat_minor": 5
}
