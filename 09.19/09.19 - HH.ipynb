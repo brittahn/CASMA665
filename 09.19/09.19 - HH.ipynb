{
 "cells": [
  {
   "cell_type": "markdown",
   "id": "e3173208-3645-43dd-b3dd-0f22bcc2c755",
   "metadata": {},
   "source": [
    "### Lecture on HH Model\n",
    "\n",
    "#### September 19, 2024\n",
    "\n",
    "#### Mark Kramer's slides:\n",
    "https://github.com/Mark-Kramer/BU-MA665-MA666/blob/master/Slides/HH_Lecture_1.pdf\n",
    "\n",
    "---\n",
    "\n",
    "\n"
   ]
  }
 ],
 "metadata": {
  "kernelspec": {
   "display_name": "Python 3 (ipykernel)",
   "language": "python",
   "name": "python3"
  },
  "language_info": {
   "codemirror_mode": {
    "name": "ipython",
    "version": 3
   },
   "file_extension": ".py",
   "mimetype": "text/x-python",
   "name": "python",
   "nbconvert_exporter": "python",
   "pygments_lexer": "ipython3",
   "version": "3.12.4"
  }
 },
 "nbformat": 4,
 "nbformat_minor": 5
}
