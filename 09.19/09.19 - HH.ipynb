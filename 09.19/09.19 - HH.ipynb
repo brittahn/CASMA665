{
 "cells": [
  {
   "cell_type": "markdown",
   "id": "e3173208-3645-43dd-b3dd-0f22bcc2c755",
   "metadata": {},
   "source": [
    "### HH Model\n",
    "\n",
    "\n"
   ]
  }
 ],
 "metadata": {
  "kernelspec": {
   "display_name": "Python 3 (ipykernel)",
   "language": "python",
   "name": "python3"
  },
  "language_info": {
   "codemirror_mode": {
    "name": "ipython",
    "version": 3
   },
   "file_extension": ".py",
   "mimetype": "text/x-python",
   "name": "python",
   "nbconvert_exporter": "python",
   "pygments_lexer": "ipython3",
   "version": "3.12.4"
  }
 },
 "nbformat": 4,
 "nbformat_minor": 5
}
