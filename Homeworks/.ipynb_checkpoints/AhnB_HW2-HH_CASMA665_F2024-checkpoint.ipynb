{
 "cells": [
  {
   "cell_type": "markdown",
   "id": "659ca933-24af-428c-99c0-4925212c3006",
   "metadata": {},
   "source": [
    "### Brittany Ahn\n",
    "\n",
    "#### **Course:** CASMA665 Mathematical Neuroscience\n",
    "\n",
    "#### **Date:** October 1, 2024\n",
    "\n",
    "#### **Assignment:** Homework 2 - Hodgkin-Huxley Neuron\n",
    "\n",
    "___\n",
    "\n",
    "**Document Description:**\n",
    "\n",
    "For this assignment, answer Challenges 1-4 in the following module:\n",
    "\n",
    "https://mark-kramer.github.io/BU-MA665-MA666/HH.html\n",
    "\n",
    "___\n",
    "\n",
    "### **Challenge 1**\n",
    "\n",
    "**Questions:**\n",
    "\n",
    "Describe the dynamics during an action potential in the HH model.\n",
    "\n",
    "How does the voltage change?\n",
    "\n",
    "How do the gates open and close?\n",
    "\n",
    "How do the ions flow?\n"
   ]
  },
  {
   "cell_type": "code",
   "execution_count": 20,
   "id": "83cd3ce3-1b6d-432e-a9e5-e606429cfb73",
   "metadata": {},
   "outputs": [],
   "source": [
    "# Description: Hodgkin-Huxley Neuron Model with toy parameters.\n",
    "# This model will be used to answer Challenge 1."
   ]
  },
  {
   "cell_type": "markdown",
   "id": "2e249ce8-df85-44a4-bb39-58c7c0738ee9",
   "metadata": {},
   "source": [
    "___\n",
    "\n",
    "### **Challenge 2**\n",
    "\n",
    "**Questions:**\n",
    "\n",
    "Determine how the firing rate of the HH model varies with input current I.\n",
    "\n",
    "Plot the firing rate versus I (i.e., plot the “f-I curve”)."
   ]
  },
  {
   "cell_type": "code",
   "execution_count": null,
   "id": "fb2dfad3-d84f-493c-a0f6-79e2c48b20ec",
   "metadata": {},
   "outputs": [],
   "source": [
    "# Compute the firing rate."
   ]
  },
  {
   "cell_type": "markdown",
   "id": "e4b26d8d-4009-403d-8290-d2630aa916ee",
   "metadata": {},
   "source": [
    "\n",
    "___\n",
    "\n",
    "### **Challenge 3**\n",
    "\n",
    "**Questions:**\n",
    "\n",
    "How does the firing rate of the HH model change as you increase the potassium conductance?\n",
    "\n",
    "Provide a “simulation” explanation and a “physical” explanation."
   ]
  },
  {
   "cell_type": "code",
   "execution_count": null,
   "id": "d5a934cf-f66a-4624-aa5d-96ad7b2a3b76",
   "metadata": {},
   "outputs": [],
   "source": [
    "# Increase the potassium conductance."
   ]
  },
  {
   "cell_type": "markdown",
   "id": "350ab8f3-daa1-4eac-9e5b-ebe4ba735590",
   "metadata": {},
   "source": [
    "___\n",
    "\n",
    "### **Challenge 4**\n",
    "\n",
    "**Questions:**\n",
    "\n",
    "How does the firing rate of the HH model change as you increase sodium conductance?\n",
    "\n",
    "Provide a “simulation”explanation and a “physical” explanation."
   ]
  },
  {
   "cell_type": "code",
   "execution_count": null,
   "id": "dc28c0d8-c518-48e8-90c4-2b37d93f6895",
   "metadata": {},
   "outputs": [],
   "source": [
    "# Increase the sodium conductance."
   ]
  }
 ],
 "metadata": {
  "kernelspec": {
   "display_name": "Python 3 (ipykernel)",
   "language": "python",
   "name": "python3"
  },
  "language_info": {
   "codemirror_mode": {
    "name": "ipython",
    "version": 3
   },
   "file_extension": ".py",
   "mimetype": "text/x-python",
   "name": "python",
   "nbconvert_exporter": "python",
   "pygments_lexer": "ipython3",
   "version": "3.12.4"
  }
 },
 "nbformat": 4,
 "nbformat_minor": 5
}
