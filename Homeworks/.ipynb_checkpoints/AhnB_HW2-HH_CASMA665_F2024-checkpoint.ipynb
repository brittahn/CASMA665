{
 "cells": [
  {
   "cell_type": "markdown",
   "id": "659ca933-24af-428c-99c0-4925212c3006",
   "metadata": {},
   "source": [
    "#### **Name:** Britt Ahn\n",
    "\n",
    "#### **Course:** CASMA665 <em>Mathematical Neuroscience</em>\n",
    "\n",
    "#### **Date:** October 1, 2024\n",
    "\n",
    "#### **Assignment:** Homework 2, <em>Hodgkin-Huxley Neuron</em>\n",
    "\n",
    "<pre>\n",
    "    \n",
    "</pre>\n",
    "\n",
    "___\n",
    "\n",
    "<pre>\n",
    "    \n",
    "</pre>\n",
    "\n",
    "### <span style=\"color:cornflowerblue\">**Document Description**</span>\n",
    "\n",
    "For Homework 2, answer Challenges 1-4 in the following module:\n",
    "\n",
    "<ins>**https://mark-kramer.github.io/BU-MA665-MA666/HH.html**</ins>\n",
    "\n",
    "<pre>\n",
    "    \n",
    "</pre>\n",
    "\n",
    "___\n",
    "\n",
    "<pre>\n",
    "    \n",
    "</pre>\n",
    "\n",
    "### <span style=\"color:cornflowerblue\">**Challenge 1**</span>\n",
    "\n",
    "**Questions:**\n",
    "\n",
    "1. Describe the dynamics during an action potential in the HH model.\n",
    "\n",
    "2. How does the voltage change?\n",
    "\n",
    "3. How do the gates open and close?\n",
    "\n",
    "4. How do the ions flow?\n"
   ]
  },
  {
   "cell_type": "code",
   "execution_count": 20,
   "id": "83cd3ce3-1b6d-432e-a9e5-e606429cfb73",
   "metadata": {},
   "outputs": [],
   "source": [
    "# Description: Hodgkin-Huxley Neuron Model with toy parameters.\n",
    "# This model will be used to answer Challenge 1."
   ]
  },
  {
   "cell_type": "markdown",
   "id": "2e249ce8-df85-44a4-bb39-58c7c0738ee9",
   "metadata": {},
   "source": [
    "<pre>\n",
    "    \n",
    "</pre>\n",
    "\n",
    "___\n",
    "\n",
    "<pre>\n",
    "    \n",
    "</pre>\n",
    "\n",
    "### <span style=\"color:cornflowerblue\">**Challenge 2**</span>\n",
    "\n",
    "**Questions:**\n",
    "\n",
    "1. Determine how the firing rate of the HH model varies with input current I.\n",
    "\n",
    "2. Plot the firing rate versus I (i.e., plot the “f-I curve”)."
   ]
  },
  {
   "cell_type": "code",
   "execution_count": null,
   "id": "fb2dfad3-d84f-493c-a0f6-79e2c48b20ec",
   "metadata": {},
   "outputs": [],
   "source": [
    "# Compute the firing rate."
   ]
  },
  {
   "cell_type": "markdown",
   "id": "e4b26d8d-4009-403d-8290-d2630aa916ee",
   "metadata": {},
   "source": [
    "<pre>\n",
    "    \n",
    "</pre>\n",
    "\n",
    "___\n",
    "\n",
    "<pre>\n",
    "    \n",
    "</pre>\n",
    "\n",
    "### <span style=\"color:cornflowerblue\">**Challenge 3**</span>\n",
    "\n",
    "**Questions:**\n",
    "\n",
    "1. How does the firing rate of the HH model change as you increase the potassium conductance?\n",
    "\n",
    "2. Provide a “simulation” explanation and a “physical” explanation."
   ]
  },
  {
   "cell_type": "code",
   "execution_count": null,
   "id": "d5a934cf-f66a-4624-aa5d-96ad7b2a3b76",
   "metadata": {},
   "outputs": [],
   "source": [
    "# Increase the potassium conductance."
   ]
  },
  {
   "cell_type": "markdown",
   "id": "350ab8f3-daa1-4eac-9e5b-ebe4ba735590",
   "metadata": {},
   "source": [
    "<pre>\n",
    "    \n",
    "</pre>\n",
    "\n",
    "___\n",
    "\n",
    "<pre>\n",
    "    \n",
    "</pre>\n",
    "\n",
    "### <span style=\"color:cornflowerblue\">**Challenge 4**</span>\n",
    "\n",
    "**Questions:**\n",
    "\n",
    "1. How does the firing rate of the HH model change as you increase sodium conductance?\n",
    "\n",
    "2. Provide a “simulation” explanation and a “physical” explanation."
   ]
  },
  {
   "cell_type": "code",
   "execution_count": null,
   "id": "dc28c0d8-c518-48e8-90c4-2b37d93f6895",
   "metadata": {},
   "outputs": [],
   "source": [
    "# Increase the sodium conductance."
   ]
  }
 ],
 "metadata": {
  "kernelspec": {
   "display_name": "Python 3 (ipykernel)",
   "language": "python",
   "name": "python3"
  },
  "language_info": {
   "codemirror_mode": {
    "name": "ipython",
    "version": 3
   },
   "file_extension": ".py",
   "mimetype": "text/x-python",
   "name": "python",
   "nbconvert_exporter": "python",
   "pygments_lexer": "ipython3",
   "version": "3.12.4"
  }
 },
 "nbformat": 4,
 "nbformat_minor": 5
}
