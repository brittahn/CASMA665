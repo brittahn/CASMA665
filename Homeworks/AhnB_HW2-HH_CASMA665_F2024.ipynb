{
 "cells": [
  {
   "cell_type": "markdown",
   "id": "659ca933-24af-428c-99c0-4925212c3006",
   "metadata": {},
   "source": [
    "### Brittany Ahn\n",
    "\n",
    "#### **Course:** CASMA665 Mathematical Neuroscience\n",
    "\n",
    "#### **Date:** October 1, 2024\n",
    "\n",
    "#### **Assignment:** Hodgkin-Huxley Neuron - Challenges 1-4\n",
    "\n",
    "\n",
    "___\n",
    "\n",
    "### Challenge 1\n",
    "\n",
    "Describe the dynamics during an action potential in the HH model.\n",
    "How does the voltage change?\n",
    "How do the gates open and close?\n",
    "How do the ions flow?\n",
    "\n",
    "\n",
    "___\n",
    "\n",
    "### Challenge 2\n",
    "\n",
    "Determine how the firing rate of the HH model varies with input current I.\n",
    "Plot the firing rate versus I (i.e., plot the “f-I curve”).\n",
    "\n",
    "\n",
    "___\n",
    "\n",
    "### Challenge 3\n",
    "\n",
    "How does the firing rate of the HH model change as you increase the potassium conductance?\n",
    "Provide a “simulation” explanation and a “physical” explanation.\n",
    "\n",
    "\n",
    "___\n",
    "\n",
    "### Challenge 4\n",
    "\n",
    "How does the firing rate of the HH model change as you increase sodium conductance?\n",
    "Provide a “simulation”explanation and a “physical” explanation.\n"
   ]
  }
 ],
 "metadata": {
  "kernelspec": {
   "display_name": "Python 3 (ipykernel)",
   "language": "python",
   "name": "python3"
  },
  "language_info": {
   "codemirror_mode": {
    "name": "ipython",
    "version": 3
   },
   "file_extension": ".py",
   "mimetype": "text/x-python",
   "name": "python",
   "nbconvert_exporter": "python",
   "pygments_lexer": "ipython3",
   "version": "3.12.4"
  }
 },
 "nbformat": 4,
 "nbformat_minor": 5
}
