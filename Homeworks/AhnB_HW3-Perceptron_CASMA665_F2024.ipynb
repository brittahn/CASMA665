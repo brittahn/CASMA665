{
 "cells": [
  {
   "cell_type": "markdown",
   "id": "34af5155-f3ba-4d6d-a0f2-6146312983ca",
   "metadata": {},
   "source": [
    "#### **Name:** Britt Ahn\n",
    "\n",
    "#### **Course:** CASMA665 <em>Mathematical Neuroscience</em>\n",
    "\n",
    "#### **Due:** Tuesday, October 8, 2024\n",
    "\n",
    "#### **Assignment:** Homework 3, <em>Perceptron</em>\n",
    "\n",
    "<pre>\n",
    "    \n",
    "</pre>\n",
    "\n",
    "___\n",
    "\n",
    "<pre>\n",
    "    \n",
    "</pre>\n",
    "\n",
    "## <span style=\"color:cornflowerblue\"><ins>**Document Description**</ins></span>\n",
    "\n",
    "Address Challenges 1-2 in the Perceptron module: <span style=\"color:darkgoldenrod\"><ins>**mark-kramer.github.io/BU-MA665-MA666/Perceptron.html**</ins></span>\n",
    "\n",
    "<pre>\n",
    "    \n",
    "</pre>\n",
    "\n",
    "___\n",
    "\n",
    "<pre>\n",
    "    \n",
    "</pre>\n",
    "\n",
    "## <span style=\"color:cornflowerblue\"><ins>**Challenge 1**</ins></span>\n"
   ]
  },
  {
   "cell_type": "code",
   "execution_count": 23,
   "id": "4f6c8e67-966d-4a89-9ef9-d744866f17b5",
   "metadata": {},
   "outputs": [
    {
     "name": "stdout",
     "output_type": "stream",
     "text": [
      "      x_training  y_training  correct_answer\n",
      "0       2.277142   -0.642455               0\n",
      "1       0.434695   -0.802446               1\n",
      "2       0.496225   -1.776825               0\n",
      "3       1.563231   -2.275491               0\n",
      "4       1.409022   -0.682144               0\n",
      "...          ...         ...             ...\n",
      "1995    1.831286   -1.059125               0\n",
      "1996    1.390875   -1.642248               0\n",
      "1997    0.127116   -1.663242               0\n",
      "1998    0.483847   -0.829724               1\n",
      "1999    1.155530   -0.239021               1\n",
      "\n",
      "[2000 rows x 3 columns]\n"
     ]
    }
   ],
   "source": [
    "# Load the file training_data.csv\n",
    "\n",
    "import numpy as np\n",
    "import matplotlib.pyplot as plt\n",
    "import pandas as pd\n",
    "\n",
    "# Open and read csv locally\n",
    "training_data = pd.read_csv(\"~/Desktop/CASMA665/Homeworks/training_data.csv\")\n",
    "print(training_data)\n"
   ]
  },
  {
   "cell_type": "code",
   "execution_count": 27,
   "id": "93f6828e-bc25-4024-ba20-a49fb4092466",
   "metadata": {},
   "outputs": [
    {
     "name": "stdout",
     "output_type": "stream",
     "text": [
      "    x_testing  y_testing\n",
      "0    2.520672  -0.496655\n",
      "1    2.275591  -0.909807\n",
      "2    0.879952   0.125373\n",
      "3    0.725606   0.286781\n",
      "4    2.356404  -0.262373\n",
      "..        ...        ...\n",
      "95   1.003830  -0.140651\n",
      "96   3.251089  -0.749187\n",
      "97  -0.726378   0.304981\n",
      "98   0.188201   1.459093\n",
      "99   2.357138  -1.710863\n",
      "\n",
      "[100 rows x 2 columns]\n"
     ]
    }
   ],
   "source": [
    "# Load the file testing_data.csv\n",
    "\n",
    "testing_data = pd.read_csv(\"~/Desktop/CASMA665/Homeworks/testing_data.csv\")\n",
    "print(testing_data)\n"
   ]
  },
  {
   "cell_type": "markdown",
   "id": "9e5ff654-4f5d-4685-8802-9a12b279b131",
   "metadata": {},
   "source": [
    "<pre>\n",
    "    \n",
    "</pre>\n",
    "\n",
    "___\n",
    "\n",
    "<pre>\n",
    "    \n",
    "</pre>\n",
    "\n",
    "#### **Challenge Description**\n",
    "\n",
    "Determine whether each (x,y) coordinate in the testing data is above or below the line.\n",
    "\n",
    "To do so, train a perceptron using the training data.\n",
    "\n",
    "Then, apply your trained perceptron to the testing data."
   ]
  }
 ],
 "metadata": {
  "kernelspec": {
   "display_name": "Python 3 (ipykernel)",
   "language": "python",
   "name": "python3"
  },
  "language_info": {
   "codemirror_mode": {
    "name": "ipython",
    "version": 3
   },
   "file_extension": ".py",
   "mimetype": "text/x-python",
   "name": "python",
   "nbconvert_exporter": "python",
   "pygments_lexer": "ipython3",
   "version": "3.12.4"
  }
 },
 "nbformat": 4,
 "nbformat_minor": 5
}
